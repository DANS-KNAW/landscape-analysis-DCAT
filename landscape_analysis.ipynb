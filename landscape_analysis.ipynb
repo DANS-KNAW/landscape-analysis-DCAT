{
 "cells": [
  {
   "cell_type": "markdown",
   "metadata": {},
   "source": [
    "# DCAT - Landscape analysis "
   ]
  },
  {
   "cell_type": "markdown",
   "metadata": {},
   "source": [
    "## What is [DCAT](https://www.w3.org/TR/vocab-dcat-3/)? \n",
    "**DCAT** (Data Catalogue Vocabulary) is a vocabulary for sharing data catalogs on the web. It provides standardized guidelines, rules and convensions on how to structure and describe metadata about datasets, with the goal of increasing interoperability and discoverability of datasets across domains. The vocabulary is machine-readable as it formulates [RDF](https://www.w3.org/RDF/) (Resource Description Framework) classes and properties. \n",
    "\n",
    "DCAT uses terms from other well-established metadata standards such as [FOAF](http://xmlns.com/foaf/spec/) and [Dublin Core](https://www.dublincore.org/), and introduces new classes and properties in the [`dcat` namespace](http://www.w3.org/ns/dcat#). \n",
    "\n",
    "\n",
    "Here's a timeline of the development of the vocabulary: \n",
    "- 2010: First development of DCAT by [Vassilios Peristeras](https://www.ihu.gr/ucips/cv/vassilios-peristeras) at the former [Digital Enterprise Research Institute](https://en.wikipedia.org/wiki/Digital_Enterprise_Research_Institute) in Ireland. \n",
    "-2012: DCAT Is taken over by the [W3C](https://www.w3.org/) Government Linked Data Working Group. \n",
    "- 2014: Fully standardized version of DCAT is released. \n",
    "- 2020: Release of DCAT version 2. \n",
    "- 2022: Release of DCAT version 3. \n",
    "\n",
    "The different versions of DCAT are backwards compatible, meaning that older versions remain in conformance with the newer versions. The updates generally included new classes and properties, and some contraints were relaxed. \n",
    "                                                          \n",
    "\n",
    "\n",
    "### Structure \n",
    "DCAT is based around seven main classes. Each class provides guidelines for the description of a certain object based. \n",
    "\n",
    "- `dcat:Dataset`: represents a collection of data. \n",
    "- `dcat:Catalog`: represents a catalog, or collection of datasets, in which each individual item is a metadata record. \n",
    "- `dcat:Resource`: represents a dataset (or other resource) that may be described by a metadata record in a catalog. \n",
    "- `dcat:Distribution`: represents an accesible form of a dataset such as a downloadable file. \n",
    "- `dcat:Dataservice`: represents a collection of operations accessbile through an interface (API). \n",
    "- `dcat:DatasetSeries`: a dataset that represents a collection of datasets that are published separately, but share some characteristics that group them. \n",
    "- `dcat:CatalogRecord`: a metadata record in the catalog \n",
    "\n",
    "Each class has a number of predicates with different levels of obligation. Some elements are mandatory, such as the title or description of a dataset. Others are recommended or optional.  "
   ]
  },
  {
   "cell_type": "markdown",
   "metadata": {},
   "source": [
    "![Overview of the classes](img/dcat_class_diagram.png)"
   ]
  },
  {
   "cell_type": "markdown",
   "metadata": {
    "vscode": {
     "languageId": "plaintext"
    }
   },
   "source": [
    "See [this file](basic-example.ttl) for an example of a data catalogue described with DCAT. "
   ]
  },
  {
   "cell_type": "markdown",
   "metadata": {},
   "source": [
    "- Mandatory/recommended items\n",
    "- [OWL 2](https://www.w3.org/TR/owl2-overview/)\n",
    "- \n"
   ]
  },
  {
   "cell_type": "markdown",
   "metadata": {},
   "source": [
    "## EU Recommendations: [DCAT-AP](https://op.europa.eu/nl/web/eu-vocabularies/dcat-ap) \n",
    "In 2013, the European Union revised some legislation related to the re-use of public data. The revision included the adoption of the \"open by default\" principle, which formulates that data of public bodies should be open and free by default and design, as well as easily accessible via API if possible. As a response to this new standard, European public administrations set up Open Data portals, setting the first steps to a European open data ecosystem. Lack of standardization lead to a fragmented landscape of in which it was difficult to exchange metadata between the over 150 data portals, and which all had to be queried individually. \n",
    "\n",
    "\n",
    "The European Commission recognized the need to improve the fragmented open data environment in Europe. A common metadata language would make it easier to discoer and reuse datasets across portals. With this in mind, the commission extended the already existing DCAT by developing additional requirements and recommendations that would adhere to the European context, resultin in **DCAT-AP** (DCAT Application Profile). It's a specification of DCAT that reuses terms but adds more specificity. It identifies more mandatory, recommended and optional elements that should be used in particulat situations, as well as recommendations for controlled vocabularies that could be used. DCAT-AP is extendable, meaning that further needs for specifications can be implemented. \n",
    "\n",
    "\n",
    "This section is based on the information found in [this paper](https://doi.org/10.1504/EG.2022.121856). \n"
   ]
  },
  {
   "cell_type": "markdown",
   "metadata": {},
   "source": [
    "## Other data repositories that use DCAT-AP "
   ]
  },
  {
   "cell_type": "markdown",
   "metadata": {},
   "source": [
    "## Overview of elements \n",
    "\n",
    "\n",
    "* [DCAT](https://www.w3.org/TR/vocab-dcat-3/) v3: Ontology\n",
    "    * what is? ontology `=` definition of terms (classes and propretries)\n",
    "    * development history (when was 1st created; goals; current version 3)\n",
    "    *   \n",
    "* [DCAT-AP](https://semiceu.github.io/DCAT-AP/releases/3.0.0/): Schema (how to use the ontology terms: mandatory, property ranges and domains)\n",
    "     * what is DCAT-AP?\n",
    "     * focus: around dataset class\n",
    "     * how is the schema defined: in documentation and SHACL shapes\n",
    "     * what is the recommendation?\n",
    "     *  who is using dcat-ap? how are they publishing the metadata in this format?\n",
    "     * links:\n",
    "          * https://semiceu.github.io/DCAT-AP/releases/3.0.0/\n",
    "          * https://op.europa.eu/nl/web/eu-vocabularies/dcat-ap\n",
    "          * https://interoperable-europe.ec.europa.eu/collection/semic-support-centre/dcat-ap\n",
    "          * https://interoperable-europe.ec.europa.eu/collection/semic-support-centre/solution/dcat-application-profile-data-portals-europe/release/300\n",
    "          * https://interoperable-europe.ec.europa.eu/collection/semic-support-centre/solution/dcat-application-profile-data-portals-europe\n",
    "* [DCAT-AP NL](https://geonovum.github.io/DCAT-AP-NL30/): Dutch version of schema\n",
    "    * reasoning behind the development DCAT-AP NL?\n",
    "    * what are the additions introduced by DCAT-AP NL?\n",
    "    * state of development? \n",
    "    *  who is using DCAT-AP NL ?\n",
    "* DCAT Health (EU) : Health domain version of the schema \n",
    "    * reasoning behind the development DCAT Health?\n",
    "    * what are the additions introduced by DCAT Health?\n",
    "    * state of development? \n",
    "    *  who is using DCAT Health?\n",
    "    * what is the relation between DCAT Health and [Health-RI metadata](https://github.com/Health-RI/health-ri-metadata/tree/develop) \n",
    "    * links\n",
    "        * https://healthdcat-ap.github.io/\n",
    "        * https://www.health-ri.nl/nieuws/input-gevraagd-consultatie-nederlands-profiel-op-dcat-ap-30\n",
    "        * https://ehds2pilot.eu/upcoming_results/extension-of-dcat-ap-healthdcat-ap/\n",
    "        * \n",
    "* [Health-RI](https://github.com/Health-RI/health-ri-metadata/tree/develop)\n",
    "    * what is?\n",
    "     "
   ]
  },
  {
   "cell_type": "markdown",
   "metadata": {},
   "source": []
  }
 ],
 "metadata": {
  "language_info": {
   "name": "python"
  }
 },
 "nbformat": 4,
 "nbformat_minor": 2
}
