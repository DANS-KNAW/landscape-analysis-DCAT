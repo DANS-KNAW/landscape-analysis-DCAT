{
 "cells": [
  {
   "cell_type": "markdown",
   "metadata": {},
   "source": [
    "# DCAT - Landscape analysis "
   ]
  },
  {
   "cell_type": "markdown",
   "metadata": {},
   "source": [
    "## What is [DCAT](https://www.w3.org/TR/vocab-dcat-3/)? \n",
    "**DCAT** (Data Catalogue Vocabulary) is a vocabulary for sharing data catalogs on the web. It provides standardized guidelines, rules and convensions on how to structure and describe metadata about datasets, with the goal of increasing interoperability and discoverability of datasets across domains. The vocabulary is machine-readable as it formulates [RDF](https://www.w3.org/RDF/) (Resource Description Framework) classes and properties. \n",
    "\n",
    "DCAT uses terms from other well-established metadata standards such as [foaf](http://xmlns.com/foaf/spec/) and [Dublin Core](https://www.dublincore.org/), and introduces new classes and properties in the [`dcat` namespace](http://www.w3.org/ns/dcat#). \n",
    "\n",
    "\n",
    "DCAT was developed in 2010 by the former [Digital Enterprise Research Institute](https://en.wikipedia.org/wiki/Digital_Enterprise_Research_Institute) by [Vassilios Peristeras](https://www.ihu.gr/ucips/cv/vassilios-peristeras) whe\n",
    "\n",
    "\n",
    "\n",
    "### Structure \n",
    "DCAT is based around seven main classes: \n",
    "\n",
    "- `dcat:Catalog`: represents a data catalog (i.e., a dataset in which each individual item is a metadata record describing some resource). The scopeis collections of metadata about **datasets, data services**, and other resource types. \n",
    "- `dcat:Resource`: represents a dataset (or other resource) that may be described by a metadata record in a catalog. \n",
    "- `dcat:Dataset`: represents a collection of data. \n",
    "- `dcat:Distribution`: represents an accesible form of a dataset such as a downloadable file. \n",
    "- `dcat:Dataservice`: represents a collection of operations accessbile through an interface (API). \n",
    "- `dcat:DatasetSeries`: a dataset that represents a collection of datasets that are published separately, but share some characteristics that group them. \n",
    "- `dcat:CatalogRecord`: a metadata record in the catalog \n",
    "\n",
    "Each class has a number of predicates with different levels of obligation. Some elements are mandatory, such as the title or description of a dataset. Others are recommended or optional.  \n",
    "\n",
    "\n"
   ]
  },
  {
   "cell_type": "markdown",
   "metadata": {},
   "source": [
    "## EU Recommendations: [DCAT-AP](https://op.europa.eu/nl/web/eu-vocabularies/dcat-ap) \n",
    "The European Union developed an extension of DCAT as part of an effort to improve open data policies and interoperability across the EU. The idea was to create a common standard for the description of datasets, making it easier to discover and resuse datasets. To better adhere to the European context, the European Commission developed additional requirements and recommendations, resulting in **DCAT-AP** (DCAT Application Profile). \n",
    "\n",
    "\n",
    "In 2013, the European Union revised some legislation related to the re-use of public data. The revision included the adoption of the \"open by default\" principle, which formulates that data of public bodies should be open by default and design, and should be acce"
   ]
  },
  {
   "cell_type": "markdown",
   "metadata": {},
   "source": [
    "## Other data repositories that use DCAT-AP "
   ]
  },
  {
   "cell_type": "markdown",
   "metadata": {},
   "source": [
    "## Overview of elements \n",
    "\n",
    "\n",
    "* [DCAT](https://www.w3.org/TR/vocab-dcat-3/) v3: Ontology\n",
    "    * what is? ontology `=` definition of terms (classes and propretries)\n",
    "    * development history (when was 1st created; goals; current version 3)\n",
    "    *   \n",
    "* [DCAT-AP](https://semiceu.github.io/DCAT-AP/releases/3.0.0/): Schema (how to use the ontology terms: mandatory, property ranges and domains)\n",
    "     * what is DCAT-AP?\n",
    "     * focus: around dataset class\n",
    "     * how is the schema defined: in documentation and SHACL shapes\n",
    "     * what is the recommendation?\n",
    "     *  who is using dcat-ap? how are they publishing the metadata in this format?\n",
    "     * links:\n",
    "          * https://semiceu.github.io/DCAT-AP/releases/3.0.0/\n",
    "          * https://op.europa.eu/nl/web/eu-vocabularies/dcat-ap\n",
    "          * https://interoperable-europe.ec.europa.eu/collection/semic-support-centre/dcat-ap\n",
    "          * https://interoperable-europe.ec.europa.eu/collection/semic-support-centre/solution/dcat-application-profile-data-portals-europe/release/300\n",
    "          * https://interoperable-europe.ec.europa.eu/collection/semic-support-centre/solution/dcat-application-profile-data-portals-europe\n",
    "* [DCAT-AP NL](https://geonovum.github.io/DCAT-AP-NL30/): Dutch version of schema\n",
    "    * reasoning behind the development DCAT-AP NL?\n",
    "    * what are the additions introduced by DCAT-AP NL?\n",
    "    * state of development? \n",
    "    *  who is using DCAT-AP NL ?\n",
    "* DCAT Health (EU) : Health domain version of the schema \n",
    "    * reasoning behind the development DCAT Health?\n",
    "    * what are the additions introduced by DCAT Health?\n",
    "    * state of development? \n",
    "    *  who is using DCAT Health?\n",
    "    * what is the relation between DCAT Health and [Health-RI metadata](https://github.com/Health-RI/health-ri-metadata/tree/develop) \n",
    "    * links\n",
    "        * https://healthdcat-ap.github.io/\n",
    "        * https://www.health-ri.nl/nieuws/input-gevraagd-consultatie-nederlands-profiel-op-dcat-ap-30\n",
    "        * https://ehds2pilot.eu/upcoming_results/extension-of-dcat-ap-healthdcat-ap/\n",
    "        * \n",
    "* [Health-RI](https://github.com/Health-RI/health-ri-metadata/tree/develop)\n",
    "    * what is?\n",
    "     "
   ]
  },
  {
   "cell_type": "markdown",
   "metadata": {},
   "source": []
  }
 ],
 "metadata": {
  "language_info": {
   "name": "python"
  }
 },
 "nbformat": 4,
 "nbformat_minor": 2
}
